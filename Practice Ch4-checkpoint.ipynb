{
 "cells": [
  {
   "cell_type": "code",
   "execution_count": 1,
   "metadata": {},
   "outputs": [],
   "source": [
    "import numpy\n",
    "import math\n",
    "from scipy import stats "
   ]
  },
  {
   "cell_type": "code",
   "execution_count": 2,
   "metadata": {},
   "outputs": [],
   "source": [
    "from numpy import random\n",
    "import numpy as np"
   ]
  },
  {
   "cell_type": "code",
   "execution_count": 3,
   "metadata": {},
   "outputs": [],
   "source": [
    "# uniform random numbers in [0,1]\n",
    "dataOne = random.rand(5,5)"
   ]
  },
  {
   "cell_type": "code",
   "execution_count": 4,
   "metadata": {},
   "outputs": [
    {
     "data": {
      "text/plain": [
       "0.5234353875577878"
      ]
     },
     "execution_count": 4,
     "metadata": {},
     "output_type": "execute_result"
    }
   ],
   "source": [
    "np.mean(dataOne)"
   ]
  },
  {
   "cell_type": "code",
   "execution_count": 5,
   "metadata": {},
   "outputs": [
    {
     "data": {
      "text/plain": [
       "0.5356046313611947"
      ]
     },
     "execution_count": 5,
     "metadata": {},
     "output_type": "execute_result"
    }
   ],
   "source": [
    "np.median(dataOne)"
   ]
  },
  {
   "cell_type": "code",
   "execution_count": 6,
   "metadata": {},
   "outputs": [
    {
     "data": {
      "text/plain": [
       "13.085884688944697"
      ]
     },
     "execution_count": 6,
     "metadata": {},
     "output_type": "execute_result"
    }
   ],
   "source": [
    "np.sum(dataOne)"
   ]
  },
  {
   "cell_type": "code",
   "execution_count": 7,
   "metadata": {},
   "outputs": [
    {
     "data": {
      "text/plain": [
       "0.5234353875577878"
      ]
     },
     "execution_count": 7,
     "metadata": {},
     "output_type": "execute_result"
    }
   ],
   "source": [
    "np.average(dataOne)"
   ]
  },
  {
   "cell_type": "code",
   "execution_count": 8,
   "metadata": {},
   "outputs": [
    {
     "name": "stdout",
     "output_type": "stream",
     "text": [
      "[[0.70852782 0.37646926 0.11453694 0.52161468 0.40398779]\n",
      " [0.30837802 0.53560463 0.04293523 0.14015353 0.38265975]\n",
      " [0.70586556 0.95135382 0.18303576 0.09815419 0.74559545]\n",
      " [0.6724512  0.94586271 0.34879091 0.59188928 0.96561413]\n",
      " [0.88431386 0.22708969 0.70404457 0.80378069 0.72317522]]\n"
     ]
    }
   ],
   "source": [
    "print(dataOne)"
   ]
  },
  {
   "cell_type": "code",
   "execution_count": 9,
   "metadata": {},
   "outputs": [
    {
     "name": "stdout",
     "output_type": "stream",
     "text": [
      "I Love data Science\n"
     ]
    }
   ],
   "source": [
    "print('I Love data Science')"
   ]
  },
  {
   "cell_type": "code",
   "execution_count": 10,
   "metadata": {},
   "outputs": [
    {
     "data": {
      "text/plain": [
       "int"
      ]
     },
     "execution_count": 10,
     "metadata": {},
     "output_type": "execute_result"
    }
   ],
   "source": [
    "variableName = 25\n",
    "type(variableName)"
   ]
  },
  {
   "cell_type": "code",
   "execution_count": 11,
   "metadata": {},
   "outputs": [
    {
     "data": {
      "text/plain": [
       "float"
      ]
     },
     "execution_count": 11,
     "metadata": {},
     "output_type": "execute_result"
    }
   ],
   "source": [
    "variableName = 25.0\n",
    "\n",
    "type(variableName)"
   ]
  },
  {
   "cell_type": "code",
   "execution_count": 12,
   "metadata": {},
   "outputs": [
    {
     "name": "stdout",
     "output_type": "stream",
     "text": [
      "50.0\n"
     ]
    }
   ],
   "source": [
    "varOne = 25\n",
    "\n",
    "varTwo = 25.0\n",
    "\n",
    "varThree = varOne + varTwo\n",
    "\n",
    "print(varThree)"
   ]
  },
  {
   "cell_type": "code",
   "execution_count": 13,
   "metadata": {},
   "outputs": [
    {
     "data": {
      "text/plain": [
       "float"
      ]
     },
     "execution_count": 13,
     "metadata": {},
     "output_type": "execute_result"
    }
   ],
   "source": [
    "type(varThree)"
   ]
  },
  {
   "cell_type": "code",
   "execution_count": 131,
   "metadata": {},
   "outputs": [
    {
     "ename": "TypeError",
     "evalue": "unsupported operand type(s) for +: 'int' and 'str'",
     "output_type": "error",
     "traceback": [
      "\u001b[1;31m---------------------------------------------------------------------------\u001b[0m",
      "\u001b[1;31mTypeError\u001b[0m                                 Traceback (most recent call last)",
      "\u001b[1;32m<ipython-input-131-261389b58bfa>\u001b[0m in \u001b[0;36m<module>\u001b[1;34m\u001b[0m\n\u001b[0;32m      3\u001b[0m \u001b[0mvarTwo\u001b[0m \u001b[1;33m=\u001b[0m \u001b[1;34m'Hello'\u001b[0m\u001b[1;33m\u001b[0m\u001b[1;33m\u001b[0m\u001b[0m\n\u001b[0;32m      4\u001b[0m \u001b[1;33m\u001b[0m\u001b[0m\n\u001b[1;32m----> 5\u001b[1;33m \u001b[0mvarThree\u001b[0m \u001b[1;33m=\u001b[0m \u001b[0mvarOne\u001b[0m \u001b[1;33m+\u001b[0m \u001b[0mvarTwo\u001b[0m\u001b[1;33m\u001b[0m\u001b[1;33m\u001b[0m\u001b[0m\n\u001b[0m\u001b[0;32m      6\u001b[0m \u001b[1;33m\u001b[0m\u001b[0m\n\u001b[0;32m      7\u001b[0m \u001b[0mprint\u001b[0m\u001b[1;33m(\u001b[0m\u001b[0mvarThree\u001b[0m\u001b[1;33m)\u001b[0m\u001b[1;33m\u001b[0m\u001b[1;33m\u001b[0m\u001b[0m\n",
      "\u001b[1;31mTypeError\u001b[0m: unsupported operand type(s) for +: 'int' and 'str'"
     ]
    }
   ],
   "source": [
    "varOne = 25\n",
    "\n",
    "varTwo = 'Hello'\n",
    "\n",
    "varThree = varOne + varTwo\n",
    "\n",
    "print(varThree)\n",
    "\n"
   ]
  },
  {
   "cell_type": "code",
   "execution_count": 15,
   "metadata": {},
   "outputs": [
    {
     "data": {
      "text/plain": [
       "str"
      ]
     },
     "execution_count": 15,
     "metadata": {},
     "output_type": "execute_result"
    }
   ],
   "source": [
    "type(varTwo)"
   ]
  },
  {
   "cell_type": "code",
   "execution_count": 16,
   "metadata": {},
   "outputs": [
    {
     "data": {
      "text/plain": [
       "int"
      ]
     },
     "execution_count": 16,
     "metadata": {},
     "output_type": "execute_result"
    }
   ],
   "source": [
    "type(varOne)"
   ]
  },
  {
   "cell_type": "code",
   "execution_count": 17,
   "metadata": {},
   "outputs": [
    {
     "name": "stdout",
     "output_type": "stream",
     "text": [
      "25 Hello\n"
     ]
    }
   ],
   "source": [
    "varOne = '25'\n",
    "\n",
    "varTwo = 'Hello'\n",
    "\n",
    "varThree = varOne + \" \"+ varTwo\n",
    "\n",
    "print(varThree)"
   ]
  },
  {
   "cell_type": "code",
   "execution_count": 18,
   "metadata": {},
   "outputs": [],
   "source": [
    "Dic = {\"Jan\" : 1, \"Jul\": 7, \"Sep\" : 9, 'Oct':10, 'yr': 2019 }"
   ]
  },
  {
   "cell_type": "code",
   "execution_count": 19,
   "metadata": {},
   "outputs": [
    {
     "data": {
      "text/plain": [
       "10"
      ]
     },
     "execution_count": 19,
     "metadata": {},
     "output_type": "execute_result"
    }
   ],
   "source": [
    "Dic['Oct']"
   ]
  },
  {
   "cell_type": "code",
   "execution_count": 20,
   "metadata": {},
   "outputs": [
    {
     "data": {
      "text/plain": [
       "64.0"
      ]
     },
     "execution_count": 20,
     "metadata": {},
     "output_type": "execute_result"
    }
   ],
   "source": [
    "Dic['Jul'] * Dic['Sep']+ np.sqrt(Dic['Jan'])"
   ]
  },
  {
   "cell_type": "code",
   "execution_count": 21,
   "metadata": {},
   "outputs": [
    {
     "data": {
      "text/plain": [
       "2.428571428571429"
      ]
     },
     "execution_count": 21,
     "metadata": {},
     "output_type": "execute_result"
    }
   ],
   "source": [
    "Dic['Oct']/Dic['Jul']+Dic['Jan']"
   ]
  },
  {
   "cell_type": "code",
   "execution_count": 22,
   "metadata": {},
   "outputs": [
    {
     "data": {
      "text/plain": [
       "1570.3333333333333"
      ]
     },
     "execution_count": 22,
     "metadata": {},
     "output_type": "execute_result"
    }
   ],
   "source": [
    "(Dic['Jul']/Dic['Sep'])* Dic['yr']"
   ]
  },
  {
   "cell_type": "code",
   "execution_count": 23,
   "metadata": {},
   "outputs": [
    {
     "data": {
      "text/plain": [
       "65"
      ]
     },
     "execution_count": 23,
     "metadata": {},
     "output_type": "execute_result"
    }
   ],
   "source": [
    "ord(\"A\")"
   ]
  },
  {
   "cell_type": "code",
   "execution_count": 24,
   "metadata": {},
   "outputs": [],
   "source": [
    "myInt = int(\"123\")"
   ]
  },
  {
   "cell_type": "code",
   "execution_count": 25,
   "metadata": {},
   "outputs": [],
   "source": [
    "myStr = str(1234.56)"
   ]
  },
  {
   "cell_type": "code",
   "execution_count": 26,
   "metadata": {},
   "outputs": [],
   "source": [
    "import datetime"
   ]
  },
  {
   "cell_type": "code",
   "execution_count": 27,
   "metadata": {},
   "outputs": [
    {
     "data": {
      "text/plain": [
       "datetime.datetime(2019, 11, 9, 17, 50, 2, 127760)"
      ]
     },
     "execution_count": 27,
     "metadata": {},
     "output_type": "execute_result"
    }
   ],
   "source": [
    "datetime.datetime.now()"
   ]
  },
  {
   "cell_type": "code",
   "execution_count": 28,
   "metadata": {},
   "outputs": [
    {
     "data": {
      "text/plain": [
       "'2019-11-09'"
      ]
     },
     "execution_count": 28,
     "metadata": {},
     "output_type": "execute_result"
    }
   ],
   "source": [
    "str(datetime.datetime.now().date()) "
   ]
  },
  {
   "cell_type": "code",
   "execution_count": 29,
   "metadata": {},
   "outputs": [
    {
     "data": {
      "text/plain": [
       "'17:50:02.311654'"
      ]
     },
     "execution_count": 29,
     "metadata": {},
     "output_type": "execute_result"
    }
   ],
   "source": [
    "str(datetime.datetime.now().time()) "
   ]
  },
  {
   "cell_type": "code",
   "execution_count": 30,
   "metadata": {},
   "outputs": [],
   "source": [
    "def SayHello():\n",
    " print('Hello There!')"
   ]
  },
  {
   "cell_type": "code",
   "execution_count": 31,
   "metadata": {},
   "outputs": [
    {
     "name": "stdout",
     "output_type": "stream",
     "text": [
      "Hello There!\n"
     ]
    }
   ],
   "source": [
    "SayHello()"
   ]
  },
  {
   "cell_type": "code",
   "execution_count": 32,
   "metadata": {},
   "outputs": [],
   "source": [
    "def DoSum(Value1, Value2):\n",
    "    return Value1 + Value2"
   ]
  },
  {
   "cell_type": "code",
   "execution_count": 33,
   "metadata": {},
   "outputs": [
    {
     "data": {
      "text/plain": [
       "10"
      ]
     },
     "execution_count": 33,
     "metadata": {},
     "output_type": "execute_result"
    }
   ],
   "source": [
    "DoSum(4,6)"
   ]
  },
  {
   "cell_type": "code",
   "execution_count": 34,
   "metadata": {},
   "outputs": [],
   "source": [
    "def DisplaySum(Value1, Value2):\n",
    "    print(str(Value1) + ' + ' + str(Value2) + ' = ' + str((Value1 + Value2)))"
   ]
  },
  {
   "cell_type": "code",
   "execution_count": 35,
   "metadata": {},
   "outputs": [
    {
     "name": "stdout",
     "output_type": "stream",
     "text": [
      "2 + 3 = 5\n"
     ]
    }
   ],
   "source": [
    "DisplaySum(2, 3)"
   ]
  },
  {
   "cell_type": "code",
   "execution_count": 36,
   "metadata": {},
   "outputs": [
    {
     "name": "stdout",
     "output_type": "stream",
     "text": [
      "2 + 3 = 5\n"
     ]
    }
   ],
   "source": [
    "DisplaySum(Value2\n",
    "= 3, Value1 = 2) "
   ]
  },
  {
   "cell_type": "code",
   "execution_count": 37,
   "metadata": {},
   "outputs": [],
   "source": [
    "def SayHello(Greeting = \"No Value Supplied\"):\n",
    "    print(Greeting)"
   ]
  },
  {
   "cell_type": "code",
   "execution_count": 38,
   "metadata": {},
   "outputs": [
    {
     "name": "stdout",
     "output_type": "stream",
     "text": [
      "No Value Supplied\n"
     ]
    }
   ],
   "source": [
    " SayHello()"
   ]
  },
  {
   "cell_type": "code",
   "execution_count": 39,
   "metadata": {},
   "outputs": [
    {
     "name": "stdout",
     "output_type": "stream",
     "text": [
      "Howdy!\n"
     ]
    }
   ],
   "source": [
    "SayHello(\"Howdy!\")"
   ]
  },
  {
   "cell_type": "code",
   "execution_count": 40,
   "metadata": {},
   "outputs": [],
   "source": [
    "def DisplayMulti(ArgCount = 0, *VarArgs):\n",
    "    print('You passed ' + str(ArgCount) + ' arguments.', VarArgs)"
   ]
  },
  {
   "cell_type": "code",
   "execution_count": 41,
   "metadata": {},
   "outputs": [
    {
     "name": "stdout",
     "output_type": "stream",
     "text": [
      "You passed 0 arguments. ()\n"
     ]
    }
   ],
   "source": [
    "DisplayMulti()"
   ]
  },
  {
   "cell_type": "code",
   "execution_count": 42,
   "metadata": {},
   "outputs": [
    {
     "name": "stdout",
     "output_type": "stream",
     "text": [
      "You passed 3 arguments. ('Hello', 1, True)\n"
     ]
    }
   ],
   "source": [
    "DisplayMulti(3, 'Hello', 1,\n",
    "True)"
   ]
  },
  {
   "cell_type": "code",
   "execution_count": 43,
   "metadata": {},
   "outputs": [],
   "source": [
    "def TestValue(Value):\n",
    "    if Value == 5:\n",
    "        print('Value equals 5!')\n",
    "    elif Value == 6:\n",
    "        print('Value equals 6!')\n",
    "    else:\n",
    "        print('Value is something else.')\n",
    "    print('It equals ' + str(Value))"
   ]
  },
  {
   "cell_type": "code",
   "execution_count": 44,
   "metadata": {},
   "outputs": [
    {
     "name": "stdout",
     "output_type": "stream",
     "text": [
      "Value is something else.\n",
      "It equals 1\n"
     ]
    }
   ],
   "source": [
    "TestValue(1) "
   ]
  },
  {
   "cell_type": "code",
   "execution_count": 45,
   "metadata": {},
   "outputs": [
    {
     "name": "stdout",
     "output_type": "stream",
     "text": [
      "Value equals 5!\n",
      "It equals 5\n"
     ]
    }
   ],
   "source": [
    "TestValue(5)"
   ]
  },
  {
   "cell_type": "code",
   "execution_count": 46,
   "metadata": {},
   "outputs": [
    {
     "name": "stdout",
     "output_type": "stream",
     "text": [
      "Value equals 6!\n",
      "It equals 6\n"
     ]
    }
   ],
   "source": [
    " TestValue(6)"
   ]
  },
  {
   "cell_type": "code",
   "execution_count": 47,
   "metadata": {},
   "outputs": [],
   "source": [
    "def SecretNumber():\n",
    "    One = int(input(\"Type a number between 1 and 10: \"))\n",
    "    Two = int(input(\"Type a number between 1 and 10: \"))\n",
    "    if (One >=1) and (One <= 10):\n",
    "        if (Two >=1) and (One >= 10):\n",
    "            print('Your secret number is: ' + str(One*Two))\n",
    "        else:\n",
    "                print ('Your secret number is: ' + str(One * Two))\n",
    "                \n",
    "    else:\n",
    "            print(\"Incorrect first value!\")\n",
    "          "
   ]
  },
  {
   "cell_type": "code",
   "execution_count": 48,
   "metadata": {},
   "outputs": [],
   "source": [
    "def SecretNumber():\n",
    "    One = int(input(\"Type a number between 1 and 10: \"))\n",
    "    Two = int(input(\"Type a number between 1 and 10: \"))\n",
    "    \n",
    "    if (One >= 1) and (One <= 10):\n",
    "            if (Two >=1) and (Two <= 10):\n",
    "                print('Your secret number is: ' + str(One * Two))\n",
    "            else:\n",
    "                print(\" Incorrect second value\")\n",
    "    else:\n",
    "            print (\"Incorrect first value!\")\n",
    "            "
   ]
  },
  {
   "cell_type": "code",
   "execution_count": 49,
   "metadata": {},
   "outputs": [
    {
     "name": "stdout",
     "output_type": "stream",
     "text": [
      "Type a number between 1 and 10: 6\n",
      "Type a number between 1 and 10: 3\n",
      "Your secret number is: 18\n"
     ]
    }
   ],
   "source": [
    "SecretNumber()"
   ]
  },
  {
   "cell_type": "code",
   "execution_count": 50,
   "metadata": {},
   "outputs": [
    {
     "name": "stdout",
     "output_type": "stream",
     "text": [
      "Type a number between 1 and 10: 18\n",
      "Type a number between 1 and 10: 5\n",
      "Incorrect first value!\n"
     ]
    }
   ],
   "source": [
    "SecretNumber()"
   ]
  },
  {
   "cell_type": "code",
   "execution_count": 51,
   "metadata": {},
   "outputs": [],
   "source": [
    "def DisplayMulti(*VarArgs):\n",
    "    for Arg in VarArgs:\n",
    "        if Arg.upper()== 'CONT':\n",
    "            continue\n",
    "            print('Continue Argument: ' + Arg)\n",
    "        elif Arg.upper() == 'BREAK':\n",
    "            break\n",
    "            print('Break Argument: ' + Arg)\n",
    "        print('Good Argument: ' + Arg)\n",
    "            \n",
    " "
   ]
  },
  {
   "cell_type": "code",
   "execution_count": 52,
   "metadata": {},
   "outputs": [
    {
     "name": "stdout",
     "output_type": "stream",
     "text": [
      "Good Argument: Hello\n",
      "Good Argument: Goodbye\n",
      "Good Argument: First\n",
      "Good Argument: Last\n"
     ]
    }
   ],
   "source": [
    "DisplayMulti('Hello', 'Goodbye', 'First', 'Last')"
   ]
  },
  {
   "cell_type": "code",
   "execution_count": 53,
   "metadata": {},
   "outputs": [
    {
     "name": "stdout",
     "output_type": "stream",
     "text": [
      "Good Argument: Hello\n",
      "Good Argument: Goodbye\n"
     ]
    }
   ],
   "source": [
    "DisplayMulti('Hello', 'Cont', 'Goodbye', 'Break', 'Last')"
   ]
  },
  {
   "cell_type": "code",
   "execution_count": 54,
   "metadata": {},
   "outputs": [],
   "source": [
    "def SecretNumber():\n",
    "    GotIt = False\n",
    "    while GotIt == False:\n",
    "        One = int(input(\"Type a number between 1 and 10: \"))\n",
    "        Two = int(input(\"Type a number between 1 and 10: \"))\n",
    "        \n",
    "        if (One >= 1) and (One <=10):\n",
    "            if (Two >= 1) and (Two <=10):\n",
    "                print ('Secret number is: ' + str(One* Two))\n",
    "                GotIt = True\n",
    "                continue\n",
    "            else:\n",
    "                print(\"Incorrect second value!\")\n",
    "        else:\n",
    "            print(\"Incorrect first value!\")\n",
    "        print(\"Try again\")\n",
    "            "
   ]
  },
  {
   "cell_type": "code",
   "execution_count": 55,
   "metadata": {},
   "outputs": [
    {
     "name": "stdout",
     "output_type": "stream",
     "text": [
      "Type a number between 1 and 10: 20\n",
      "Type a number between 1 and 10: 10\n",
      "Incorrect first value!\n",
      "Try again\n",
      "Type a number between 1 and 10: 6\n",
      "Type a number between 1 and 10: 4\n",
      "Secret number is: 24\n"
     ]
    }
   ],
   "source": [
    " SecretNumber() "
   ]
  },
  {
   "cell_type": "code",
   "execution_count": 58,
   "metadata": {
    "scrolled": true
   },
   "outputs": [],
   "source": [
    "SetA = set(['Red', 'Blue', 'Green', 'Black'])\n",
    "SetB = set(['Black', 'Green', 'Yellow', 'Orange'])\n",
    "SetX = SetA.union(SetB)\n",
    "SetY = (SetA.intersection(SetB))\n",
    "SetZ = (SetA.difference(SetB))\n",
    "\n",
    "###TypeError                                 Traceback (most recent call last)\n",
    "###<ipython-input-181-ec29b44e7e39> in <module>\n",
    "###----> 1 Set = set(str)\n",
    "###      2 SetA = set(['Red', 'Blue', 'Green', 'Black'])\n",
    "###      3 SetB = set(['Black', 'Green', 'Yellow', 'Orange'])\n",
    "###      4 SetX = SetA.union(SetB)\n",
    "###      5 SetY = (SetA.intersection(SetB))\n",
    "\n",
    "###TypeError: 'type' object is not iterable\n",
    "\n",
    "## In the new python version set() is built in, so I removed the defined function and that worked "
   ]
  },
  {
   "cell_type": "code",
   "execution_count": 129,
   "metadata": {},
   "outputs": [
    {
     "name": "stdout",
     "output_type": "stream",
     "text": [
      "{'Red', 'Orange', 'Green', 'Blue', 'Yellow', 'Black'}\n",
      "{'Black', 'Green'}\n",
      "{'Blue', 'Red'}\n"
     ]
    }
   ],
   "source": [
    "\n",
    "print ('{0}\\n{1}\\n{2}'.format(SetX, SetY, SetZ))\n",
    "\n",
    "##File \"<ipython-input-187-e4daffe32985>\", line \n",
    "##print '{0}\\n{1}\\n{2}'.format(SetX, SetY, SetZ)\n",
    "                        ^\n",
    "##SyntaxError: invalid syntax"
   ]
  },
  {
   "cell_type": "code",
   "execution_count": 62,
   "metadata": {},
   "outputs": [
    {
     "data": {
      "text/plain": [
       "True"
      ]
     },
     "execution_count": 62,
     "metadata": {},
     "output_type": "execute_result"
    }
   ],
   "source": [
    "SetA.issuperset(SetY)"
   ]
  },
  {
   "cell_type": "code",
   "execution_count": 63,
   "metadata": {},
   "outputs": [
    {
     "data": {
      "text/plain": [
       "True"
      ]
     },
     "execution_count": 63,
     "metadata": {},
     "output_type": "execute_result"
    }
   ],
   "source": [
    "SetA.issubset(SetX)"
   ]
  },
  {
   "cell_type": "code",
   "execution_count": 64,
   "metadata": {},
   "outputs": [],
   "source": [
    "SetA.add('Purple') "
   ]
  },
  {
   "cell_type": "code",
   "execution_count": 65,
   "metadata": {},
   "outputs": [
    {
     "data": {
      "text/plain": [
       "False"
      ]
     },
     "execution_count": 65,
     "metadata": {},
     "output_type": "execute_result"
    }
   ],
   "source": [
    "SetA.issubset(SetX)"
   ]
  },
  {
   "cell_type": "code",
   "execution_count": 66,
   "metadata": {},
   "outputs": [
    {
     "data": {
      "text/plain": [
       "[0, 1, 2, 3, 4, 5, 6, 7]"
      ]
     },
     "execution_count": 66,
     "metadata": {},
     "output_type": "execute_result"
    }
   ],
   "source": [
    "ListA = [0, 1, 2, 3]\n",
    "ListB = [4, 5, 6, 7]\n",
    "ListA.extend(ListB)\n",
    "ListA"
   ]
  },
  {
   "cell_type": "code",
   "execution_count": 67,
   "metadata": {},
   "outputs": [],
   "source": [
    "ListA.append(-5)"
   ]
  },
  {
   "cell_type": "code",
   "execution_count": 68,
   "metadata": {},
   "outputs": [
    {
     "data": {
      "text/plain": [
       "[0, 1, 2, 3, 4, 5, 6, 7, -5]"
      ]
     },
     "execution_count": 68,
     "metadata": {},
     "output_type": "execute_result"
    }
   ],
   "source": [
    "ListA\n"
   ]
  },
  {
   "cell_type": "code",
   "execution_count": 69,
   "metadata": {},
   "outputs": [],
   "source": [
    "ListA.remove(-5)"
   ]
  },
  {
   "cell_type": "code",
   "execution_count": 70,
   "metadata": {},
   "outputs": [
    {
     "data": {
      "text/plain": [
       "[0, 1, 2, 3, 4, 5, 6, 7]"
      ]
     },
     "execution_count": 70,
     "metadata": {},
     "output_type": "execute_result"
    }
   ],
   "source": [
    "ListA\n"
   ]
  },
  {
   "cell_type": "code",
   "execution_count": 71,
   "metadata": {},
   "outputs": [],
   "source": [
    "ListX = ListA + ListB"
   ]
  },
  {
   "cell_type": "code",
   "execution_count": 72,
   "metadata": {},
   "outputs": [
    {
     "data": {
      "text/plain": [
       "[0, 1, 2, 3, 4, 5, 6, 7, 4, 5, 6, 7]"
      ]
     },
     "execution_count": 72,
     "metadata": {},
     "output_type": "execute_result"
    }
   ],
   "source": [
    "ListX"
   ]
  },
  {
   "cell_type": "code",
   "execution_count": 73,
   "metadata": {},
   "outputs": [],
   "source": [
    "MyTuple = (1, 2, 3, (4, 5, 6, (7, 8, 9)))\n"
   ]
  },
  {
   "cell_type": "code",
   "execution_count": 132,
   "metadata": {},
   "outputs": [
    {
     "name": "stdout",
     "output_type": "stream",
     "text": [
      "1\n",
      "2\n",
      "3\n",
      "\t 4\n",
      "\t 5\n",
      "\t 6\n",
      "\t\t 7\n",
      "\t\t 8\n",
      "\t\t 9\n"
     ]
    }
   ],
   "source": [
    " for Value1 in MyTuple:\n",
    "        if type(Value1) == int:\n",
    "            print (Value1)\n",
    "        else:\n",
    "            for Value2 in Value1:\n",
    "                if type(Value2) == int:\n",
    "                    print (\"\\t\" , Value2)\n",
    "                else:\n",
    "                    for Value3 in Value2:\n",
    "                        print (\"\\t\\t\", Value3)\n",
    "\n",
    "##Error: \n",
    "## File \"<ipython-input-160-aa289771577f>\", line 3\n",
    "###    print Value1\n",
    "               ^\n",
    "##SyntaxError: Missing parentheses in call to 'print'. Did you mean print(Value1)?\n",
    "\n",
    "## In the book the print Value didn't have parentheses, so added them"
   ]
  },
  {
   "cell_type": "code",
   "execution_count": null,
   "metadata": {},
   "outputs": [],
   "source": [
    "MyNewTuple = MyTuple.__add__((10, 11, 12, (13, 14, 15))) "
   ]
  },
  {
   "cell_type": "code",
   "execution_count": null,
   "metadata": {},
   "outputs": [],
   "source": [
    "for Value1 in MyNewTuple:\n",
    "        if type(Value1) == int:\n",
    "            print (Value1)\n",
    "        else:\n",
    "            for Value2 in Value1:\n",
    "                if type(Value2) == int:\n",
    "                    print (\"\\t\" , Value2)\n",
    "                else:\n",
    "                    for Value3 in Value2:\n",
    "                        print (\"\\t\\t\", Value3)\n",
    "                        \n"
   ]
  },
  {
   "cell_type": "code",
   "execution_count": null,
   "metadata": {},
   "outputs": [],
   "source": [
    "ListA = ['Orange', 'Yellow', 'Green', 'Brown']\n",
    "ListB = [1, 2, 3, 4]"
   ]
  },
  {
   "cell_type": "code",
   "execution_count": null,
   "metadata": {},
   "outputs": [],
   "source": [
    "for Value in ListB[1:3]:\n",
    "    print (Value)"
   ]
  },
  {
   "cell_type": "code",
   "execution_count": null,
   "metadata": {},
   "outputs": [],
   "source": [
    "for Value1, Value2 in zip(ListA, ListB):\n",
    "     print (Value1, '\\t', Value2)"
   ]
  },
  {
   "cell_type": "code",
   "execution_count": 76,
   "metadata": {},
   "outputs": [],
   "source": [
    " MyDict = {'Orange':1, 'Blue':2, 'Pink':3}"
   ]
  },
  {
   "cell_type": "code",
   "execution_count": 77,
   "metadata": {},
   "outputs": [
    {
     "data": {
      "text/plain": [
       "3"
      ]
     },
     "execution_count": 77,
     "metadata": {},
     "output_type": "execute_result"
    }
   ],
   "source": [
    "MyDict['Pink']"
   ]
  },
  {
   "cell_type": "code",
   "execution_count": 78,
   "metadata": {},
   "outputs": [
    {
     "data": {
      "text/plain": [
       "dict_keys(['Orange', 'Blue', 'Pink'])"
      ]
     },
     "execution_count": 78,
     "metadata": {},
     "output_type": "execute_result"
    }
   ],
   "source": [
    "MyDict.keys()"
   ]
  },
  {
   "cell_type": "code",
   "execution_count": 134,
   "metadata": {},
   "outputs": [
    {
     "name": "stdout",
     "output_type": "stream",
     "text": [
      "Colors.txt content:\n",
      "Color   Value\n",
      "Red     1\n",
      "Orange  2\n",
      "Yellow  3\n",
      "Green   4\n",
      "Blue    5\n",
      "Purple  6\n",
      "Black   7\n",
      "White   8\n",
      "\n"
     ]
    }
   ],
   "source": [
    "with open(\"Colors.txt\", 'r') as open_file:\n",
    " print ('Colors.txt content:\\n' + open_file.read())"
   ]
  },
  {
   "cell_type": "code",
   "execution_count": 90,
   "metadata": {},
   "outputs": [
    {
     "name": "stdout",
     "output_type": "stream",
     "text": [
      "Reading Data: Color   Value\n",
      "\n",
      "Reading Data: Red     1\n",
      "\n",
      "Reading Data: Orange  2\n",
      "\n",
      "Reading Data: Yellow  3\n",
      "\n",
      "Reading Data: Green   4\n",
      "\n",
      "Reading Data: Blue    5\n",
      "\n",
      "Reading Data: Purple  6\n",
      "\n",
      "Reading Data: Black   7\n",
      "\n",
      "Reading Data: White   8\n",
      "\n"
     ]
    }
   ],
   "source": [
    "with open(\"Colors.txt\", 'r') as open_file:\n",
    "    for observation in open_file:\n",
    "        print ('Reading Data: ' + observation)\n"
   ]
  },
  {
   "cell_type": "code",
   "execution_count": 95,
   "metadata": {},
   "outputs": [
    {
     "name": "stdout",
     "output_type": "stream",
     "text": [
      "Reading Line: 0 Content: Color   Value\n",
      "\n",
      "Reading Line: 2 Content: Orange  2\n",
      "\n",
      "Reading Line: 4 Content: Green   4\n",
      "\n",
      "Reading Line: 6 Content: Purple  6\n",
      "\n",
      "Reading Line: 8 Content: White   8\n",
      "\n"
     ]
    }
   ],
   "source": [
    "n = 2\n",
    "with open(\"Colors.txt\", 'r') as open_file:\n",
    "    for j, observation in enumerate(open_file):\n",
    "        if j % n==0:\n",
    "            print('Reading Line: ' + str(j) +' Content: ' + observation)\n",
    "            \n",
    "#####Error\n",
    "###---------------------------------------------------------------------------\n",
    "#TypeError                                 Traceback (most recent call last)\n",
    "#<ipython-input-93-04bda104f94b> in <module>\n",
    "#      3     for j, observation in enumerate(open_file):\n",
    "#      4         if j % n==0:\n",
    "#----> 5             print('Reading Line: ' + str(j) +' Content: ' + observation)\n",
    "\n",
    "#TypeError: can only concatenate str (not \"bytes\") to str\n",
    "\n",
    "# replaced 'rb' with 'r' in the second line"
   ]
  },
  {
   "cell_type": "code",
   "execution_count": 97,
   "metadata": {},
   "outputs": [
    {
     "name": "stdout",
     "output_type": "stream",
     "text": [
      "Reading Line: 5 Content: Blue    5\n",
      "\n",
      "Reading Line: 8 Content: White   8\n",
      "\n"
     ]
    }
   ],
   "source": [
    "from random import random\n",
    "sample_size = 0.25\n",
    "with open(\"Colors.txt\", 'r') as open_file:\n",
    "    for j, observation in enumerate(open_file):\n",
    "        if random()<=sample_size:\n",
    "            print('Reading Line: ' + str(j) +' Content: ' + observation)\n",
    "            \n",
    "####Error\n",
    "##---------------------------------------------------------------------------\n",
    "##TypeError                                 Traceback (most recent call last)\n",
    "##<ipython-input-96-76f49c22aecd> in <module>\n",
    "##      4     for j, observation in enumerate(open_file):\n",
    "##      5         if random()<=sample_size:\n",
    "##----> 6             print('Reading Line: ' + str(j) +' Content: ' + observation)\n",
    "\n",
    "##TypeError: can only concatenate str (not \"bytes\") to str\n",
    "### replaced 'rb' with 'r' in the second line"
   ]
  },
  {
   "cell_type": "code",
   "execution_count": 101,
   "metadata": {},
   "outputs": [
    {
     "name": "stdout",
     "output_type": "stream",
     "text": [
      "  Color   Value\n",
      "0     Red     1\n",
      "1     Orange  2\n",
      "2     Yellow  3\n",
      "3     Green   4\n",
      "4     Blue    5\n",
      "5     Purple  6\n",
      "6     Black   7\n",
      "7     White   8\n"
     ]
    }
   ],
   "source": [
    "import pandas as pd\n",
    "color_table = pd.io.parsers.read_table(\"Colors.txt\")\n",
    "print (color_table)"
   ]
  },
  {
   "cell_type": "code",
   "execution_count": 118,
   "metadata": {},
   "outputs": [
    {
     "name": "stdout",
     "output_type": "stream",
     "text": [
      "      Age\n",
      "0    22.0\n",
      "1    38.0\n",
      "2    26.0\n",
      "3    35.0\n",
      "4    35.0\n",
      "..    ...\n",
      "882  27.0\n",
      "883  19.0\n",
      "884   7.0\n",
      "885  26.0\n",
      "886  32.0\n",
      "\n",
      "[887 rows x 1 columns]\n"
     ]
    }
   ],
   "source": [
    "import pandas as pd\n",
    "titanic = pd.io.parsers.read_csv(\"titanic.csv\")\n",
    "X = titanic[['Age']]\n",
    "print (X)"
   ]
  },
  {
   "cell_type": "code",
   "execution_count": 120,
   "metadata": {},
   "outputs": [
    {
     "name": "stdout",
     "output_type": "stream",
     "text": [
      "[[22.  ]\n",
      " [38.  ]\n",
      " [26.  ]\n",
      " [35.  ]\n",
      " [35.  ]\n",
      " [27.  ]\n",
      " [54.  ]\n",
      " [ 2.  ]\n",
      " [27.  ]\n",
      " [14.  ]\n",
      " [ 4.  ]\n",
      " [58.  ]\n",
      " [20.  ]\n",
      " [39.  ]\n",
      " [14.  ]\n",
      " [55.  ]\n",
      " [ 2.  ]\n",
      " [23.  ]\n",
      " [31.  ]\n",
      " [22.  ]\n",
      " [35.  ]\n",
      " [34.  ]\n",
      " [15.  ]\n",
      " [28.  ]\n",
      " [ 8.  ]\n",
      " [38.  ]\n",
      " [26.  ]\n",
      " [19.  ]\n",
      " [24.  ]\n",
      " [23.  ]\n",
      " [40.  ]\n",
      " [48.  ]\n",
      " [18.  ]\n",
      " [66.  ]\n",
      " [28.  ]\n",
      " [42.  ]\n",
      " [18.  ]\n",
      " [21.  ]\n",
      " [18.  ]\n",
      " [14.  ]\n",
      " [40.  ]\n",
      " [27.  ]\n",
      " [ 3.  ]\n",
      " [19.  ]\n",
      " [30.  ]\n",
      " [20.  ]\n",
      " [27.  ]\n",
      " [16.  ]\n",
      " [18.  ]\n",
      " [ 7.  ]\n",
      " [21.  ]\n",
      " [49.  ]\n",
      " [29.  ]\n",
      " [65.  ]\n",
      " [46.  ]\n",
      " [21.  ]\n",
      " [28.5 ]\n",
      " [ 5.  ]\n",
      " [11.  ]\n",
      " [22.  ]\n",
      " [38.  ]\n",
      " [45.  ]\n",
      " [ 4.  ]\n",
      " [64.  ]\n",
      " [ 7.  ]\n",
      " [29.  ]\n",
      " [19.  ]\n",
      " [17.  ]\n",
      " [26.  ]\n",
      " [32.  ]\n",
      " [16.  ]\n",
      " [21.  ]\n",
      " [26.  ]\n",
      " [32.  ]\n",
      " [25.  ]\n",
      " [23.  ]\n",
      " [28.  ]\n",
      " [ 0.83]\n",
      " [30.  ]\n",
      " [22.  ]\n",
      " [29.  ]\n",
      " [31.  ]\n",
      " [28.  ]\n",
      " [17.  ]\n",
      " [33.  ]\n",
      " [16.  ]\n",
      " [20.  ]\n",
      " [23.  ]\n",
      " [24.  ]\n",
      " [29.  ]\n",
      " [20.  ]\n",
      " [46.  ]\n",
      " [26.  ]\n",
      " [59.  ]\n",
      " [22.  ]\n",
      " [71.  ]\n",
      " [23.  ]\n",
      " [34.  ]\n",
      " [34.  ]\n",
      " [28.  ]\n",
      " [29.  ]\n",
      " [21.  ]\n",
      " [33.  ]\n",
      " [37.  ]\n",
      " [28.  ]\n",
      " [21.  ]\n",
      " [29.  ]\n",
      " [38.  ]\n",
      " [28.  ]\n",
      " [47.  ]\n",
      " [14.5 ]\n",
      " [22.  ]\n",
      " [20.  ]\n",
      " [17.  ]\n",
      " [21.  ]\n",
      " [70.5 ]\n",
      " [29.  ]\n",
      " [24.  ]\n",
      " [ 2.  ]\n",
      " [21.  ]\n",
      " [19.  ]\n",
      " [32.5 ]\n",
      " [32.5 ]\n",
      " [54.  ]\n",
      " [12.  ]\n",
      " [19.  ]\n",
      " [24.  ]\n",
      " [ 2.  ]\n",
      " [45.  ]\n",
      " [33.  ]\n",
      " [20.  ]\n",
      " [47.  ]\n",
      " [29.  ]\n",
      " [25.  ]\n",
      " [23.  ]\n",
      " [19.  ]\n",
      " [37.  ]\n",
      " [16.  ]\n",
      " [24.  ]\n",
      " [40.  ]\n",
      " [22.  ]\n",
      " [24.  ]\n",
      " [19.  ]\n",
      " [18.  ]\n",
      " [19.  ]\n",
      " [27.  ]\n",
      " [ 9.  ]\n",
      " [36.5 ]\n",
      " [42.  ]\n",
      " [51.  ]\n",
      " [22.  ]\n",
      " [55.5 ]\n",
      " [40.5 ]\n",
      " [27.  ]\n",
      " [51.  ]\n",
      " [16.  ]\n",
      " [30.  ]\n",
      " [37.  ]\n",
      " [ 5.  ]\n",
      " [44.  ]\n",
      " [40.  ]\n",
      " [26.  ]\n",
      " [17.  ]\n",
      " [ 1.  ]\n",
      " [ 9.  ]\n",
      " [48.  ]\n",
      " [45.  ]\n",
      " [60.  ]\n",
      " [28.  ]\n",
      " [61.  ]\n",
      " [ 4.  ]\n",
      " [ 1.  ]\n",
      " [21.  ]\n",
      " [56.  ]\n",
      " [18.  ]\n",
      " [ 5.  ]\n",
      " [50.  ]\n",
      " [30.  ]\n",
      " [36.  ]\n",
      " [ 8.  ]\n",
      " [39.  ]\n",
      " [ 9.  ]\n",
      " [ 1.  ]\n",
      " [ 4.  ]\n",
      " [39.  ]\n",
      " [26.  ]\n",
      " [45.  ]\n",
      " [40.  ]\n",
      " [36.  ]\n",
      " [32.  ]\n",
      " [19.  ]\n",
      " [19.  ]\n",
      " [ 3.  ]\n",
      " [44.  ]\n",
      " [58.  ]\n",
      " [28.  ]\n",
      " [42.  ]\n",
      " [21.  ]\n",
      " [24.  ]\n",
      " [28.  ]\n",
      " [17.  ]\n",
      " [34.  ]\n",
      " [45.5 ]\n",
      " [18.  ]\n",
      " [ 2.  ]\n",
      " [32.  ]\n",
      " [26.  ]\n",
      " [16.  ]\n",
      " [40.  ]\n",
      " [24.  ]\n",
      " [35.  ]\n",
      " [22.  ]\n",
      " [30.  ]\n",
      " [22.  ]\n",
      " [31.  ]\n",
      " [27.  ]\n",
      " [42.  ]\n",
      " [32.  ]\n",
      " [30.  ]\n",
      " [16.  ]\n",
      " [27.  ]\n",
      " [51.  ]\n",
      " [22.  ]\n",
      " [38.  ]\n",
      " [22.  ]\n",
      " [19.  ]\n",
      " [20.5 ]\n",
      " [18.  ]\n",
      " [12.  ]\n",
      " [35.  ]\n",
      " [29.  ]\n",
      " [59.  ]\n",
      " [ 5.  ]\n",
      " [24.  ]\n",
      " [21.  ]\n",
      " [44.  ]\n",
      " [ 8.  ]\n",
      " [19.  ]\n",
      " [33.  ]\n",
      " [19.  ]\n",
      " [18.  ]\n",
      " [29.  ]\n",
      " [22.  ]\n",
      " [30.  ]\n",
      " [44.  ]\n",
      " [25.  ]\n",
      " [24.  ]\n",
      " [37.  ]\n",
      " [54.  ]\n",
      " [18.  ]\n",
      " [29.  ]\n",
      " [62.  ]\n",
      " [30.  ]\n",
      " [41.  ]\n",
      " [29.  ]\n",
      " [38.  ]\n",
      " [30.  ]\n",
      " [35.  ]\n",
      " [50.  ]\n",
      " [ 3.  ]\n",
      " [52.  ]\n",
      " [40.  ]\n",
      " [21.  ]\n",
      " [36.  ]\n",
      " [16.  ]\n",
      " [25.  ]\n",
      " [58.  ]\n",
      " [35.  ]\n",
      " [28.  ]\n",
      " [25.  ]\n",
      " [41.  ]\n",
      " [37.  ]\n",
      " [33.  ]\n",
      " [63.  ]\n",
      " [45.  ]\n",
      " [21.  ]\n",
      " [ 7.  ]\n",
      " [35.  ]\n",
      " [65.  ]\n",
      " [28.  ]\n",
      " [16.  ]\n",
      " [19.  ]\n",
      " [57.  ]\n",
      " [33.  ]\n",
      " [30.  ]\n",
      " [22.  ]\n",
      " [42.  ]\n",
      " [22.  ]\n",
      " [26.  ]\n",
      " [19.  ]\n",
      " [36.  ]\n",
      " [24.  ]\n",
      " [24.  ]\n",
      " [30.  ]\n",
      " [23.5 ]\n",
      " [ 2.  ]\n",
      " [47.  ]\n",
      " [50.  ]\n",
      " [20.  ]\n",
      " [24.  ]\n",
      " [19.  ]\n",
      " [46.  ]\n",
      " [28.  ]\n",
      " [ 0.92]\n",
      " [42.  ]\n",
      " [17.  ]\n",
      " [30.  ]\n",
      " [30.  ]\n",
      " [24.  ]\n",
      " [18.  ]\n",
      " [26.  ]\n",
      " [28.  ]\n",
      " [43.  ]\n",
      " [26.  ]\n",
      " [24.  ]\n",
      " [54.  ]\n",
      " [31.  ]\n",
      " [40.  ]\n",
      " [22.  ]\n",
      " [27.  ]\n",
      " [30.  ]\n",
      " [22.  ]\n",
      " [20.  ]\n",
      " [36.  ]\n",
      " [61.  ]\n",
      " [36.  ]\n",
      " [31.  ]\n",
      " [16.  ]\n",
      " [28.  ]\n",
      " [45.5 ]\n",
      " [38.  ]\n",
      " [16.  ]\n",
      " [42.  ]\n",
      " [30.  ]\n",
      " [29.  ]\n",
      " [41.  ]\n",
      " [45.  ]\n",
      " [45.  ]\n",
      " [ 2.  ]\n",
      " [24.  ]\n",
      " [28.  ]\n",
      " [25.  ]\n",
      " [36.  ]\n",
      " [24.  ]\n",
      " [40.  ]\n",
      " [34.  ]\n",
      " [ 3.  ]\n",
      " [42.  ]\n",
      " [23.  ]\n",
      " [43.  ]\n",
      " [15.  ]\n",
      " [25.  ]\n",
      " [23.  ]\n",
      " [28.  ]\n",
      " [22.  ]\n",
      " [38.  ]\n",
      " [22.  ]\n",
      " [23.  ]\n",
      " [40.  ]\n",
      " [29.  ]\n",
      " [45.  ]\n",
      " [35.  ]\n",
      " [27.  ]\n",
      " [30.  ]\n",
      " [60.  ]\n",
      " [35.  ]\n",
      " [22.  ]\n",
      " [24.  ]\n",
      " [25.  ]\n",
      " [18.  ]\n",
      " [19.  ]\n",
      " [22.  ]\n",
      " [ 3.  ]\n",
      " [25.  ]\n",
      " [22.  ]\n",
      " [27.  ]\n",
      " [20.  ]\n",
      " [19.  ]\n",
      " [42.  ]\n",
      " [ 1.  ]\n",
      " [32.  ]\n",
      " [35.  ]\n",
      " [27.  ]\n",
      " [18.  ]\n",
      " [ 1.  ]\n",
      " [36.  ]\n",
      " [19.  ]\n",
      " [17.  ]\n",
      " [36.  ]\n",
      " [21.  ]\n",
      " [28.  ]\n",
      " [23.  ]\n",
      " [24.  ]\n",
      " [22.  ]\n",
      " [31.  ]\n",
      " [46.  ]\n",
      " [23.  ]\n",
      " [28.  ]\n",
      " [39.  ]\n",
      " [26.  ]\n",
      " [21.  ]\n",
      " [28.  ]\n",
      " [20.  ]\n",
      " [34.  ]\n",
      " [51.  ]\n",
      " [ 3.  ]\n",
      " [21.  ]\n",
      " [ 3.  ]\n",
      " [42.  ]\n",
      " [27.  ]\n",
      " [33.  ]\n",
      " [22.  ]\n",
      " [44.  ]\n",
      " [32.  ]\n",
      " [34.  ]\n",
      " [18.  ]\n",
      " [30.  ]\n",
      " [10.  ]\n",
      " [21.  ]\n",
      " [29.  ]\n",
      " [28.  ]\n",
      " [18.  ]\n",
      " [54.  ]\n",
      " [28.  ]\n",
      " [19.  ]\n",
      " [28.  ]\n",
      " [32.  ]\n",
      " [28.  ]\n",
      " [33.  ]\n",
      " [42.  ]\n",
      " [17.  ]\n",
      " [50.  ]\n",
      " [14.  ]\n",
      " [21.  ]\n",
      " [24.  ]\n",
      " [64.  ]\n",
      " [31.  ]\n",
      " [45.  ]\n",
      " [20.  ]\n",
      " [25.  ]\n",
      " [28.  ]\n",
      " [29.  ]\n",
      " [ 4.  ]\n",
      " [13.  ]\n",
      " [34.  ]\n",
      " [ 5.  ]\n",
      " [52.  ]\n",
      " [36.  ]\n",
      " [28.  ]\n",
      " [30.  ]\n",
      " [49.  ]\n",
      " [24.  ]\n",
      " [29.  ]\n",
      " [65.  ]\n",
      " [41.  ]\n",
      " [50.  ]\n",
      " [17.  ]\n",
      " [48.  ]\n",
      " [34.  ]\n",
      " [47.  ]\n",
      " [48.  ]\n",
      " [34.  ]\n",
      " [38.  ]\n",
      " [21.  ]\n",
      " [56.  ]\n",
      " [22.  ]\n",
      " [ 0.75]\n",
      " [39.  ]\n",
      " [38.  ]\n",
      " [33.  ]\n",
      " [23.  ]\n",
      " [22.  ]\n",
      " [40.  ]\n",
      " [34.  ]\n",
      " [29.  ]\n",
      " [22.  ]\n",
      " [ 2.  ]\n",
      " [ 9.  ]\n",
      " [37.  ]\n",
      " [50.  ]\n",
      " [63.  ]\n",
      " [25.  ]\n",
      " [ 8.  ]\n",
      " [35.  ]\n",
      " [58.  ]\n",
      " [30.  ]\n",
      " [ 9.  ]\n",
      " [19.  ]\n",
      " [21.  ]\n",
      " [55.  ]\n",
      " [71.  ]\n",
      " [21.  ]\n",
      " [26.  ]\n",
      " [54.  ]\n",
      " [55.  ]\n",
      " [25.  ]\n",
      " [24.  ]\n",
      " [17.  ]\n",
      " [21.  ]\n",
      " [21.  ]\n",
      " [37.  ]\n",
      " [16.  ]\n",
      " [18.  ]\n",
      " [33.  ]\n",
      " [37.  ]\n",
      " [28.  ]\n",
      " [26.  ]\n",
      " [29.  ]\n",
      " [66.  ]\n",
      " [36.  ]\n",
      " [54.  ]\n",
      " [24.  ]\n",
      " [47.  ]\n",
      " [34.  ]\n",
      " [30.  ]\n",
      " [36.  ]\n",
      " [32.  ]\n",
      " [30.  ]\n",
      " [22.  ]\n",
      " [35.  ]\n",
      " [44.  ]\n",
      " [18.  ]\n",
      " [40.5 ]\n",
      " [50.  ]\n",
      " [49.  ]\n",
      " [39.  ]\n",
      " [23.  ]\n",
      " [ 2.  ]\n",
      " [17.  ]\n",
      " [17.  ]\n",
      " [24.  ]\n",
      " [30.  ]\n",
      " [ 7.  ]\n",
      " [45.  ]\n",
      " [30.  ]\n",
      " [69.  ]\n",
      " [22.  ]\n",
      " [36.  ]\n",
      " [ 9.  ]\n",
      " [11.  ]\n",
      " [32.  ]\n",
      " [50.  ]\n",
      " [64.  ]\n",
      " [19.  ]\n",
      " [27.  ]\n",
      " [33.  ]\n",
      " [ 8.  ]\n",
      " [17.  ]\n",
      " [27.  ]\n",
      " [21.  ]\n",
      " [22.  ]\n",
      " [22.  ]\n",
      " [62.  ]\n",
      " [48.  ]\n",
      " [45.  ]\n",
      " [39.  ]\n",
      " [36.  ]\n",
      " [30.  ]\n",
      " [40.  ]\n",
      " [28.  ]\n",
      " [40.  ]\n",
      " [62.  ]\n",
      " [24.  ]\n",
      " [19.  ]\n",
      " [29.  ]\n",
      " [28.  ]\n",
      " [32.  ]\n",
      " [62.  ]\n",
      " [53.  ]\n",
      " [36.  ]\n",
      " [22.  ]\n",
      " [16.  ]\n",
      " [19.  ]\n",
      " [34.  ]\n",
      " [39.  ]\n",
      " [18.  ]\n",
      " [32.  ]\n",
      " [25.  ]\n",
      " [39.  ]\n",
      " [54.  ]\n",
      " [36.  ]\n",
      " [16.  ]\n",
      " [18.  ]\n",
      " [47.  ]\n",
      " [60.  ]\n",
      " [22.  ]\n",
      " [22.  ]\n",
      " [35.  ]\n",
      " [52.  ]\n",
      " [47.  ]\n",
      " [40.  ]\n",
      " [37.  ]\n",
      " [36.  ]\n",
      " [31.  ]\n",
      " [49.  ]\n",
      " [18.  ]\n",
      " [49.  ]\n",
      " [24.  ]\n",
      " [42.  ]\n",
      " [37.  ]\n",
      " [44.  ]\n",
      " [35.  ]\n",
      " [36.  ]\n",
      " [30.  ]\n",
      " [27.  ]\n",
      " [22.  ]\n",
      " [40.  ]\n",
      " [39.  ]\n",
      " [21.  ]\n",
      " [18.  ]\n",
      " [22.  ]\n",
      " [35.  ]\n",
      " [24.  ]\n",
      " [34.  ]\n",
      " [26.  ]\n",
      " [ 4.  ]\n",
      " [26.  ]\n",
      " [27.  ]\n",
      " [42.  ]\n",
      " [20.  ]\n",
      " [21.  ]\n",
      " [21.  ]\n",
      " [61.  ]\n",
      " [57.  ]\n",
      " [21.  ]\n",
      " [26.  ]\n",
      " [18.  ]\n",
      " [80.  ]\n",
      " [51.  ]\n",
      " [32.  ]\n",
      " [30.  ]\n",
      " [ 9.  ]\n",
      " [28.  ]\n",
      " [32.  ]\n",
      " [31.  ]\n",
      " [41.  ]\n",
      " [37.  ]\n",
      " [20.  ]\n",
      " [24.  ]\n",
      " [ 2.  ]\n",
      " [32.  ]\n",
      " [ 0.75]\n",
      " [48.  ]\n",
      " [19.  ]\n",
      " [56.  ]\n",
      " [21.  ]\n",
      " [23.  ]\n",
      " [23.  ]\n",
      " [18.  ]\n",
      " [21.  ]\n",
      " [16.  ]\n",
      " [18.  ]\n",
      " [24.  ]\n",
      " [27.  ]\n",
      " [32.  ]\n",
      " [23.  ]\n",
      " [58.  ]\n",
      " [50.  ]\n",
      " [40.  ]\n",
      " [47.  ]\n",
      " [36.  ]\n",
      " [20.  ]\n",
      " [32.  ]\n",
      " [25.  ]\n",
      " [49.  ]\n",
      " [43.  ]\n",
      " [48.  ]\n",
      " [40.  ]\n",
      " [31.  ]\n",
      " [70.  ]\n",
      " [31.  ]\n",
      " [19.  ]\n",
      " [18.  ]\n",
      " [24.5 ]\n",
      " [18.  ]\n",
      " [43.  ]\n",
      " [36.  ]\n",
      " [28.  ]\n",
      " [27.  ]\n",
      " [20.  ]\n",
      " [14.  ]\n",
      " [60.  ]\n",
      " [25.  ]\n",
      " [14.  ]\n",
      " [19.  ]\n",
      " [18.  ]\n",
      " [15.  ]\n",
      " [31.  ]\n",
      " [ 4.  ]\n",
      " [37.  ]\n",
      " [25.  ]\n",
      " [60.  ]\n",
      " [52.  ]\n",
      " [44.  ]\n",
      " [19.  ]\n",
      " [49.  ]\n",
      " [42.  ]\n",
      " [18.  ]\n",
      " [35.  ]\n",
      " [18.  ]\n",
      " [25.  ]\n",
      " [26.  ]\n",
      " [39.  ]\n",
      " [45.  ]\n",
      " [42.  ]\n",
      " [22.  ]\n",
      " [ 4.  ]\n",
      " [24.  ]\n",
      " [41.  ]\n",
      " [48.  ]\n",
      " [29.  ]\n",
      " [52.  ]\n",
      " [19.  ]\n",
      " [38.  ]\n",
      " [27.  ]\n",
      " [33.  ]\n",
      " [ 6.  ]\n",
      " [17.  ]\n",
      " [34.  ]\n",
      " [50.  ]\n",
      " [27.  ]\n",
      " [20.  ]\n",
      " [30.  ]\n",
      " [28.  ]\n",
      " [25.  ]\n",
      " [25.  ]\n",
      " [29.  ]\n",
      " [11.  ]\n",
      " [41.  ]\n",
      " [23.  ]\n",
      " [23.  ]\n",
      " [28.5 ]\n",
      " [48.  ]\n",
      " [35.  ]\n",
      " [20.  ]\n",
      " [32.  ]\n",
      " [45.  ]\n",
      " [36.  ]\n",
      " [21.  ]\n",
      " [24.  ]\n",
      " [31.  ]\n",
      " [70.  ]\n",
      " [16.  ]\n",
      " [30.  ]\n",
      " [19.  ]\n",
      " [31.  ]\n",
      " [ 4.  ]\n",
      " [ 6.  ]\n",
      " [33.  ]\n",
      " [23.  ]\n",
      " [48.  ]\n",
      " [ 0.67]\n",
      " [28.  ]\n",
      " [18.  ]\n",
      " [34.  ]\n",
      " [33.  ]\n",
      " [23.  ]\n",
      " [41.  ]\n",
      " [20.  ]\n",
      " [36.  ]\n",
      " [16.  ]\n",
      " [51.  ]\n",
      " [46.  ]\n",
      " [30.5 ]\n",
      " [28.  ]\n",
      " [32.  ]\n",
      " [24.  ]\n",
      " [48.  ]\n",
      " [57.  ]\n",
      " [29.  ]\n",
      " [54.  ]\n",
      " [18.  ]\n",
      " [20.  ]\n",
      " [ 5.  ]\n",
      " [22.  ]\n",
      " [43.  ]\n",
      " [13.  ]\n",
      " [17.  ]\n",
      " [29.  ]\n",
      " [35.  ]\n",
      " [25.  ]\n",
      " [25.  ]\n",
      " [18.  ]\n",
      " [ 8.  ]\n",
      " [ 1.  ]\n",
      " [46.  ]\n",
      " [20.  ]\n",
      " [16.  ]\n",
      " [21.  ]\n",
      " [43.  ]\n",
      " [25.  ]\n",
      " [39.  ]\n",
      " [49.  ]\n",
      " [31.  ]\n",
      " [30.  ]\n",
      " [30.  ]\n",
      " [34.  ]\n",
      " [31.  ]\n",
      " [11.  ]\n",
      " [ 0.42]\n",
      " [27.  ]\n",
      " [31.  ]\n",
      " [39.  ]\n",
      " [18.  ]\n",
      " [39.  ]\n",
      " [33.  ]\n",
      " [26.  ]\n",
      " [39.  ]\n",
      " [35.  ]\n",
      " [ 6.  ]\n",
      " [30.5 ]\n",
      " [39.  ]\n",
      " [23.  ]\n",
      " [31.  ]\n",
      " [43.  ]\n",
      " [10.  ]\n",
      " [52.  ]\n",
      " [27.  ]\n",
      " [38.  ]\n",
      " [27.  ]\n",
      " [ 2.  ]\n",
      " [36.  ]\n",
      " [23.  ]\n",
      " [ 1.  ]\n",
      " [19.  ]\n",
      " [62.  ]\n",
      " [15.  ]\n",
      " [ 0.83]\n",
      " [30.  ]\n",
      " [23.  ]\n",
      " [18.  ]\n",
      " [39.  ]\n",
      " [21.  ]\n",
      " [20.  ]\n",
      " [32.  ]\n",
      " [29.  ]\n",
      " [20.  ]\n",
      " [16.  ]\n",
      " [30.  ]\n",
      " [34.5 ]\n",
      " [17.  ]\n",
      " [42.  ]\n",
      " [18.  ]\n",
      " [35.  ]\n",
      " [28.  ]\n",
      " [40.  ]\n",
      " [ 4.  ]\n",
      " [74.  ]\n",
      " [ 9.  ]\n",
      " [16.  ]\n",
      " [44.  ]\n",
      " [18.  ]\n",
      " [45.  ]\n",
      " [51.  ]\n",
      " [24.  ]\n",
      " [30.  ]\n",
      " [41.  ]\n",
      " [21.  ]\n",
      " [48.  ]\n",
      " [14.  ]\n",
      " [24.  ]\n",
      " [42.  ]\n",
      " [27.  ]\n",
      " [31.  ]\n",
      " [23.  ]\n",
      " [ 4.  ]\n",
      " [26.  ]\n",
      " [47.  ]\n",
      " [33.  ]\n",
      " [47.  ]\n",
      " [28.  ]\n",
      " [15.  ]\n",
      " [20.  ]\n",
      " [19.  ]\n",
      " [23.  ]\n",
      " [56.  ]\n",
      " [25.  ]\n",
      " [33.  ]\n",
      " [22.  ]\n",
      " [28.  ]\n",
      " [25.  ]\n",
      " [39.  ]\n",
      " [27.  ]\n",
      " [19.  ]\n",
      " [ 7.  ]\n",
      " [26.  ]\n",
      " [32.  ]]\n"
     ]
    }
   ],
   "source": [
    "import pandas as pd\n",
    "titanic = pd.io.parsers.read_csv(\"titanic.csv\")\n",
    "X = titanic[['Age']].values\n",
    "print (X)"
   ]
  },
  {
   "cell_type": "code",
   "execution_count": 123,
   "metadata": {},
   "outputs": [
    {
     "ename": "SyntaxError",
     "evalue": "invalid syntax (<ipython-input-123-91ba2bda5e5d>, line 5)",
     "output_type": "error",
     "traceback": [
      "\u001b[1;36m  File \u001b[1;32m\"<ipython-input-123-91ba2bda5e5d>\"\u001b[1;36m, line \u001b[1;32m5\u001b[0m\n\u001b[1;33m    print (trig_values)\u001b[0m\n\u001b[1;37m        ^\u001b[0m\n\u001b[1;31mSyntaxError\u001b[0m\u001b[1;31m:\u001b[0m invalid syntax\n"
     ]
    }
   ],
   "source": [
    "import pandas as pd\n",
    "xls = pd.ExcelFile(\"Values.xls\")\n",
    "trig_values = xls.parse('Sheet1', index_col=None,\n",
    " na_values=(['NA'])\n",
    "print (trig_values)\n",
    "\n",
    "#unable to find the dataset provided"
   ]
  },
  {
   "cell_type": "code",
   "execution_count": 122,
   "metadata": {},
   "outputs": [
    {
     "name": "stderr",
     "output_type": "stream",
     "text": [
      "C:\\Users\\User1\\Anaconda3\\lib\\site-packages\\skimage\\io\\_io.py:48: UserWarning: `as_grey` has been deprecated in favor of `as_gray`\n",
      "  warn('`as_grey` has been deprecated in favor of `as_gray`')\n"
     ]
    },
    {
     "data": {
      "text/plain": [
       "<Figure size 640x480 with 1 Axes>"
      ]
     },
     "metadata": {},
     "output_type": "display_data"
    }
   ],
   "source": [
    "from skimage.io import imread\n",
    "from skimage.transform import resize\n",
    "from matplotlib import pyplot as plt\n",
    "import matplotlib.cm as cm\n",
    "example_file = (\"http://upload.wikimedia.org/\" +\n",
    " \"wikipedia/commons/7/7d/Dog_face.png\")\n",
    "image = imread(example_file, as_grey=True)\n",
    "plt.imshow(image, cmap=cm.gray)\n",
    "plt.show()"
   ]
  },
  {
   "cell_type": "code",
   "execution_count": 124,
   "metadata": {},
   "outputs": [
    {
     "name": "stdout",
     "output_type": "stream",
     "text": [
      "data type: <class 'numpy.ndarray'>, shape: (90, 90)\n"
     ]
    }
   ],
   "source": [
    "print(\"data type: %s, shape: %s\" %\n",
    " (type(image), image.shape))"
   ]
  },
  {
   "cell_type": "code",
   "execution_count": 125,
   "metadata": {},
   "outputs": [
    {
     "data": {
      "image/png": "[encoded data removed]",
      "text/plain": [
       "<Figure size 432x288 with 1 Axes>"
      ]
     },
     "metadata": {
      "needs_background": "light"
     },
     "output_type": "display_data"
    }
   ],
   "source": [
    "image2 = image[5:70,0:70]\n",
    "plt.imshow(image2, cmap=cm.gray)\n",
    "plt.show()"
   ]
  },
  {
   "cell_type": "code",
   "execution_count": 127,
   "metadata": {},
   "outputs": [
    {
     "name": "stdout",
     "output_type": "stream",
     "text": [
      "data type: <class 'numpy.ndarray'>, shape: (30, 30)\n"
     ]
    },
    {
     "data": {
      "image/png": "[encoded data removed]",
      "text/plain": [
       "<Figure size 432x288 with 1 Axes>"
      ]
     },
     "metadata": {
      "needs_background": "light"
     },
     "output_type": "display_data"
    }
   ],
   "source": [
    "image3 = resize(image2, (30, 30), mode='wrap')\n",
    "plt.imshow(image3, cmap=cm.gray)\n",
    "print(\"data type: %s, shape: %s\" %\n",
    " (type(image3), image3.shape))"
   ]
  },
  {
   "cell_type": "code",
   "execution_count": 128,
   "metadata": {},
   "outputs": [
    {
     "name": "stdout",
     "output_type": "stream",
     "text": [
      "data type: <class 'numpy.ndarray'>, shape: (900,)\n"
     ]
    }
   ],
   "source": [
    "image_row = image3.flatten()\n",
    "print(\"data type: %s, shape: %s\" %\n",
    " (type(image_row), image_row.shape))"
   ]
  },
  {
   "cell_type": "code",
   "execution_count": 143,
   "metadata": {},
   "outputs": [],
   "source": [
    "import pandas as pd\n",
    "Data = pd.read_csv(\"CompleteResponses.csv\")\n",
    "df = pd.DataFrame(Data)\n"
   ]
  },
  {
   "cell_type": "code",
   "execution_count": 144,
   "metadata": {},
   "outputs": [
    {
     "data": {
      "text/html": [
       "<div>\n",
       "<style scoped>\n",
       "    .dataframe tbody tr th:only-of-type {\n",
       "        vertical-align: middle;\n",
       "    }\n",
       "\n",
       "    .dataframe tbody tr th {\n",
       "        vertical-align: top;\n",
       "    }\n",
       "\n",
       "    .dataframe thead th {\n",
       "        text-align: right;\n",
       "    }\n",
       "</style>\n",
       "<table border=\"1\" class=\"dataframe\">\n",
       "  <thead>\n",
       "    <tr style=\"text-align: right;\">\n",
       "      <th></th>\n",
       "      <th>salary</th>\n",
       "      <th>age</th>\n",
       "      <th>elevel</th>\n",
       "      <th>car</th>\n",
       "      <th>zipcode</th>\n",
       "      <th>credit</th>\n",
       "      <th>brand</th>\n",
       "    </tr>\n",
       "  </thead>\n",
       "  <tbody>\n",
       "    <tr>\n",
       "      <td>0</td>\n",
       "      <td>119806.54480</td>\n",
       "      <td>45</td>\n",
       "      <td>0</td>\n",
       "      <td>14</td>\n",
       "      <td>4</td>\n",
       "      <td>442037.71130</td>\n",
       "      <td>0</td>\n",
       "    </tr>\n",
       "    <tr>\n",
       "      <td>1</td>\n",
       "      <td>106880.47840</td>\n",
       "      <td>63</td>\n",
       "      <td>1</td>\n",
       "      <td>11</td>\n",
       "      <td>6</td>\n",
       "      <td>45007.17883</td>\n",
       "      <td>1</td>\n",
       "    </tr>\n",
       "    <tr>\n",
       "      <td>2</td>\n",
       "      <td>78020.75094</td>\n",
       "      <td>23</td>\n",
       "      <td>0</td>\n",
       "      <td>15</td>\n",
       "      <td>2</td>\n",
       "      <td>48795.32279</td>\n",
       "      <td>0</td>\n",
       "    </tr>\n",
       "    <tr>\n",
       "      <td>3</td>\n",
       "      <td>63689.93635</td>\n",
       "      <td>51</td>\n",
       "      <td>3</td>\n",
       "      <td>6</td>\n",
       "      <td>5</td>\n",
       "      <td>40888.87736</td>\n",
       "      <td>1</td>\n",
       "    </tr>\n",
       "    <tr>\n",
       "      <td>4</td>\n",
       "      <td>50873.61880</td>\n",
       "      <td>20</td>\n",
       "      <td>3</td>\n",
       "      <td>14</td>\n",
       "      <td>4</td>\n",
       "      <td>352951.49770</td>\n",
       "      <td>0</td>\n",
       "    </tr>\n",
       "    <tr>\n",
       "      <td>...</td>\n",
       "      <td>...</td>\n",
       "      <td>...</td>\n",
       "      <td>...</td>\n",
       "      <td>...</td>\n",
       "      <td>...</td>\n",
       "      <td>...</td>\n",
       "      <td>...</td>\n",
       "    </tr>\n",
       "    <tr>\n",
       "      <td>9893</td>\n",
       "      <td>87580.91422</td>\n",
       "      <td>75</td>\n",
       "      <td>1</td>\n",
       "      <td>18</td>\n",
       "      <td>8</td>\n",
       "      <td>282511.90950</td>\n",
       "      <td>1</td>\n",
       "    </tr>\n",
       "    <tr>\n",
       "      <td>9894</td>\n",
       "      <td>129181.38200</td>\n",
       "      <td>75</td>\n",
       "      <td>2</td>\n",
       "      <td>7</td>\n",
       "      <td>4</td>\n",
       "      <td>384871.36390</td>\n",
       "      <td>1</td>\n",
       "    </tr>\n",
       "    <tr>\n",
       "      <td>9895</td>\n",
       "      <td>97828.08884</td>\n",
       "      <td>66</td>\n",
       "      <td>2</td>\n",
       "      <td>15</td>\n",
       "      <td>0</td>\n",
       "      <td>399446.69620</td>\n",
       "      <td>1</td>\n",
       "    </tr>\n",
       "    <tr>\n",
       "      <td>9896</td>\n",
       "      <td>20000.00000</td>\n",
       "      <td>24</td>\n",
       "      <td>1</td>\n",
       "      <td>14</td>\n",
       "      <td>1</td>\n",
       "      <td>223204.64950</td>\n",
       "      <td>1</td>\n",
       "    </tr>\n",
       "    <tr>\n",
       "      <td>9897</td>\n",
       "      <td>96430.16419</td>\n",
       "      <td>34</td>\n",
       "      <td>1</td>\n",
       "      <td>2</td>\n",
       "      <td>7</td>\n",
       "      <td>224029.80700</td>\n",
       "      <td>0</td>\n",
       "    </tr>\n",
       "  </tbody>\n",
       "</table>\n",
       "<p>9898 rows × 7 columns</p>\n",
       "</div>"
      ],
      "text/plain": [
       "            salary  age  elevel  car  zipcode        credit  brand\n",
       "0     119806.54480   45       0   14        4  442037.71130      0\n",
       "1     106880.47840   63       1   11        6   45007.17883      1\n",
       "2      78020.75094   23       0   15        2   48795.32279      0\n",
       "3      63689.93635   51       3    6        5   40888.87736      1\n",
       "4      50873.61880   20       3   14        4  352951.49770      0\n",
       "...            ...  ...     ...  ...      ...           ...    ...\n",
       "9893   87580.91422   75       1   18        8  282511.90950      1\n",
       "9894  129181.38200   75       2    7        4  384871.36390      1\n",
       "9895   97828.08884   66       2   15        0  399446.69620      1\n",
       "9896   20000.00000   24       1   14        1  223204.64950      1\n",
       "9897   96430.16419   34       1    2        7  224029.80700      0\n",
       "\n",
       "[9898 rows x 7 columns]"
      ]
     },
     "execution_count": 144,
     "metadata": {},
     "output_type": "execute_result"
    }
   ],
   "source": [
    "df"
   ]
  },
  {
   "cell_type": "code",
   "execution_count": null,
   "metadata": {},
   "outputs": [],
   "source": []
  }
 ],
 "metadata": {
  "kernelspec": {
   "display_name": "Python 3",
   "language": "python",
   "name": "python3"
  },
  "language_info": {
   "codemirror_mode": {
    "name": "ipython",
    "version": 3
   },
   "file_extension": ".py",
   "mimetype": "text/x-python",
   "name": "python",
   "nbconvert_exporter": "python",
   "pygments_lexer": "ipython3",
   "version": "3.7.4"
  }
 },
 "nbformat": 4,
 "nbformat_minor": 2
}
